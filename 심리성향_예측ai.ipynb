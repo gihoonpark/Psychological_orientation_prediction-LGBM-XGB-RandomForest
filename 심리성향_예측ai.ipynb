{
  "nbformat": 4,
  "nbformat_minor": 0,
  "metadata": {
    "colab": {
      "name": "심리성향 예측ai",
      "private_outputs": true,
      "provenance": [],
      "collapsed_sections": [],
      "toc_visible": true,
      "mount_file_id": "1z3wI_516cP8-ihdQSOVu5BHtL9PsRm6N",
      "authorship_tag": "ABX9TyNhTQeO10zYvIvMqEJ1ag5f",
      "include_colab_link": true
    },
    "kernelspec": {
      "name": "python3",
      "display_name": "Python 3"
    },
    "accelerator": "GPU"
  },
  "cells": [
    {
      "cell_type": "markdown",
      "metadata": {
        "id": "view-in-github",
        "colab_type": "text"
      },
      "source": [
        "<a href=\"https://colab.research.google.com/github/gihoonpark/Psychological_orientation_prediction-LGBM-XGB-RandomForest/blob/main/%EC%8B%AC%EB%A6%AC%EC%84%B1%ED%96%A5_%EC%98%88%EC%B8%A1ai.ipynb\" target=\"_parent\"><img src=\"https://colab.research.google.com/assets/colab-badge.svg\" alt=\"Open In Colab\"/></a>"
      ]
    },
    {
      "cell_type": "code",
      "metadata": {
        "id": "R_DRmetsITTT"
      },
      "source": [
        "from sklearn.model_selection import train_test_split\n",
        "import xgboost as xgb\n",
        "from sklearn.metrics import accuracy_score\n",
        "from sklearn.svm import SVC\n",
        "from sklearn.model_selection import StratifiedKFold\n",
        "from sklearn.model_selection import GridSearchCV\n",
        "from sklearn.ensemble import RandomForestClassifier\n",
        "from sklearn.ensemble import VotingClassifier\n",
        "from sklearn.model_selection import train_test_split\n",
        "from sklearn.metrics import accuracy_score\n",
        "import pandas as pd\n",
        "\n",
        "df = pd.read_csv('/content/drive/My Drive/데이터분석/open data/open data/train.csv')"
      ],
      "execution_count": null,
      "outputs": []
    },
    {
      "cell_type": "code",
      "metadata": {
        "id": "TsjY968Y_OJa"
      },
      "source": [
        "df"
      ],
      "execution_count": null,
      "outputs": []
    },
    {
      "cell_type": "code",
      "metadata": {
        "id": "XmveYaNR_Loe"
      },
      "source": [
        "df.info() # data type, nan 여부 확인"
      ],
      "execution_count": null,
      "outputs": []
    },
    {
      "cell_type": "markdown",
      "metadata": {
        "id": "UIN5LK4aABK_"
      },
      "source": [
        "Preprocessing"
      ]
    },
    {
      "cell_type": "code",
      "metadata": {
        "id": "RuH60K2hJ5vt"
      },
      "source": [
        "x = df.drop(['index', 'voted'], axis=1)\n",
        "y = df.loc[:,'voted']\n",
        "print(x)\n",
        "x_dummy = pd.get_dummies(x)\n",
        "print(x_dummy)"
      ],
      "execution_count": null,
      "outputs": []
    },
    {
      "cell_type": "code",
      "metadata": {
        "id": "RRKHZ-HrIwT1"
      },
      "source": [
        "# X_train, X_val, y_train, y_val = train_test_split(x_dummy, y, test_size=0.2, random_state=42)\n",
        "kfold = StratifiedKFold(n_splits=5, random_state=42)"
      ],
      "execution_count": null,
      "outputs": []
    },
    {
      "cell_type": "markdown",
      "metadata": {
        "id": "AcQojklQ_9j0"
      },
      "source": [
        "Train"
      ]
    },
    {
      "cell_type": "code",
      "metadata": {
        "id": "0sUqdV6R_wRp"
      },
      "source": [
        "# XGBoosting model\r\n",
        "import xgboost as xgb\r\n",
        "\r\n",
        "xgb = xgb.XGBClassifier()\r\n",
        "xgb_param_grid = {'max_depth':[5,7],\r\n",
        "                  'gamma':[1,10],\r\n",
        "                  'learning_rate':[0.01]}\r\n",
        "xgb_gridsearch = GridSearchCV(xgb, xgb_param_grid, scoring='accuracy', verbose=1, cv=kfold, n_jobs = -1)\r\n",
        "xgb_gridsearch.fit(x_dummy, y)\r\n",
        "\r\n",
        "xgb_best = xgb_gridsearch.best_estimator_ # best parameter를 낸 xgb 모형"
      ],
      "execution_count": null,
      "outputs": []
    },
    {
      "cell_type": "code",
      "metadata": {
        "id": "HHjbb_moMNSC"
      },
      "source": [
        "# Randomforest model\n",
        "rfc = RandomForestClassifier()\n",
        "rfc_param_grid = {'n_estimators':[200],\n",
        "                  'max_depth':[5,7],\n",
        "                  'bootstrap':[False],\n",
        "                  'max_features':[5,7]}\n",
        "rfc_gridsearch = GridSearchCV(rfc, rfc_param_grid, scoring='accuracy', verbose=1, cv=kfold)\n",
        "rfc_gridsearch.fit(x_dummy, y)\n",
        "\n",
        "rfc_best = rfc_gridsearch.best_estimator_"
      ],
      "execution_count": null,
      "outputs": []
    },
    {
      "cell_type": "code",
      "metadata": {
        "id": "wnUrArphtkHq"
      },
      "source": [
        "# LGBM model\n",
        "from lightgbm import LGBMClassifier\n",
        "lgb = LGBMClassifier()\n",
        "lgb.fit(x_dummy, y)"
      ],
      "execution_count": null,
      "outputs": []
    },
    {
      "cell_type": "markdown",
      "metadata": {
        "id": "7bkfJtKE_702"
      },
      "source": [
        "Test"
      ]
    },
    {
      "cell_type": "code",
      "metadata": {
        "id": "5cP9ESPdNz5d"
      },
      "source": [
        "df_test = pd.read_csv('/content/drive/My Drive/데이터분석/open data/open data/test_x.csv')\n",
        "df_test.info()"
      ],
      "execution_count": null,
      "outputs": []
    },
    {
      "cell_type": "code",
      "metadata": {
        "id": "U2bnvdQnPLHP"
      },
      "source": [
        "x_test = df_test.drop(['index'], axis=1)\n",
        "print(x_test)\n",
        "x_test_dummy = pd.get_dummies(x_test)\n",
        "print(x_test_dummy)"
      ],
      "execution_count": null,
      "outputs": []
    },
    {
      "cell_type": "markdown",
      "metadata": {
        "id": "jYj1PkqTANNU"
      },
      "source": [
        "Ensemble(Voting)"
      ]
    },
    {
      "cell_type": "code",
      "metadata": {
        "id": "2F7xQLuPMb22"
      },
      "source": [
        "votingC =VotingClassifier(estimators=[('xgb',xgb_best),('rfc', rfc_best),('lgb', lgb)], \n",
        "                          voting='hard')\n",
        "votingC.fit(x_dummy, y)"
      ],
      "execution_count": null,
      "outputs": []
    },
    {
      "cell_type": "code",
      "metadata": {
        "id": "Oh1knZWMqPvS"
      },
      "source": [
        "y_pred = votingC.predict(x_test_dummy)\n",
        "print(y_pred)"
      ],
      "execution_count": null,
      "outputs": []
    }
  ]
}